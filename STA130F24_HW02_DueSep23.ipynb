{
 "cells": [
  {
   "cell_type": "markdown",
   "id": "abcfda8a",
   "metadata": {},
   "source": [
    " ## Question 1\n",
    "\n",
    "Link to ChatBot session: https://chatgpt.com/share/66ecbf0b-1d74-8005-8b7d-91bd7731a1a1 "
   ]
  },
  {
   "cell_type": "markdown",
   "id": "b2ba43e4",
   "metadata": {},
   "source": [
    "## Question 2\n",
    "\n",
    " Here is the ChatBots version of a more streamlined way to code up this \n",
    " for loop simulation so the process is more clear and easier to understand:\n",
    " Link to ChatBot session: https://chatgpt.com/share/66eceb4e-d890-8005-a60d-6ecac147f822"
   ]
  },
  {
   "cell_type": "code",
   "execution_count": 1,
   "id": "16a8beef",
   "metadata": {},
   "outputs": [
    {
     "name": "stdout",
     "output_type": "stream",
     "text": [
      "0.66884\n"
     ]
    }
   ],
   "source": [
    "import numpy as np\n",
    "\n",
    "all_door_options = [1, 2, 3]\n",
    "initial_choice = 1  # Fixed initial choice\n",
    "wins = 0\n",
    "reps = 100000\n",
    "\n",
    "for _ in range(reps):\n",
    "    # Randomly choose the winning door\n",
    "    winning_door = np.random.choice(all_door_options)\n",
    "\n",
    "    # Simulate the Monty Hall strategy of switching doors\n",
    "    if initial_choice != winning_door:\n",
    "        # Player wins if their initial choice is not the winning door\n",
    "        # and they switch to the winning door\n",
    "        wins += 1\n",
    "\n",
    "# Probability of winning by switching\n",
    "probability_of_winning = wins / reps\n",
    "print(probability_of_winning)"
   ]
  },
  {
   "cell_type": "markdown",
   "id": "55aca055",
   "metadata": {},
   "source": [
    "\n",
    "In terms of readability and explainability preferences, the original version uses many list operations and conditionals that can make it harder to follow. The improved version is more streamlined and focuses on the probability logic rather than the mechanics of the game. It’s easier to understand and faster to execute because it skips redundant steps.\n"
   ]
  },
  {
   "cell_type": "markdown",
   "id": "e7317a6f",
   "metadata": {},
   "source": [
    "## Question 3\n",
    "\n",
    "Link to ChatBot session: https://chatgpt.com/share/66eceb4e-d890-8005-a60d-6ecac147f822\n",
    "\n"
   ]
  },
  {
   "cell_type": "code",
   "execution_count": 2,
   "id": "339e68d1-6293-4a03-b209-f6dac5aa5a58",
   "metadata": {},
   "outputs": [
    {
     "name": "stdout",
     "output_type": "stream",
     "text": [
      "0.66693\n"
     ]
    }
   ],
   "source": [
    "import numpy as np  # Import the numpy library for numerical operations, particularly for random choice\n",
    "\n",
    "# List representing the three doors in the Monty Hall problem\n",
    "all_door_options = [1, 2, 3]\n",
    "\n",
    "# The player always makes an initial choice of door 1 (arbitrary fixed choice)\n",
    "initial_choice = 1  # Fixed initial choice\n",
    "\n",
    "# Counter to track the number of wins when the player switches doors\n",
    "wins = 0\n",
    "\n",
    "# Number of repetitions (simulations) to estimate the probability\n",
    "reps = 100000\n",
    "\n",
    "# Loop through the simulations 'reps' number of times\n",
    "for _ in range(reps):\n",
    "    # Randomly choose the winning door (the car is behind one of the doors)\n",
    "    winning_door = np.random.choice(all_door_options)\n",
    "\n",
    "    # Simulate the strategy of always switching doors:\n",
    "    # If the initial choice is not the winning door, switching would win\n",
    "    if initial_choice != winning_door:\n",
    "        # Player wins by switching because their initial choice was wrong\n",
    "        wins += 1  # Increment win counter\n",
    "\n",
    "# Calculate the probability of winning by switching doors\n",
    "probability_of_winning = wins / reps\n",
    "\n",
    "# Output the estimated probability\n",
    "print(probability_of_winning)\n"
   ]
  },
  {
   "cell_type": "markdown",
   "id": "e67a2eb6",
   "metadata": {},
   "source": [
    "## Question 4\n",
    "\n",
    "Link to ChatBot session: https://chatgpt.com/share/66eced05-63a8-8005-853b-19c90b19d742"
   ]
  },
  {
   "cell_type": "markdown",
   "id": "d2db9539",
   "metadata": {},
   "source": [
    "## Question 5\n",
    "\n",
    "Link to ChatBot session: https://chatgpt.com/share/66eced05-63a8-8005-853b-19c90b19d742"
   ]
  },
  {
   "cell_type": "markdown",
   "id": "c6e9875c",
   "metadata": {},
   "source": [
    "1. **Summary of the Extensions:**\n",
    "*Extension 1:* Introduces a bigram model. Instead of just looking at single-word transitions, it looks \n",
    "at two consecutive words to predict the next one. This gives more context and should result in more \n",
    "coherent text generation.\n",
    "\n",
    "*Extension 2:* Adds a character-based layer on top of the bigram model. The chatbot now has the ability \n",
    "to track word transitions specific to different characters, allowing for varied response styles depending\n",
    "on who is \"speaking.\"\n",
    "\n",
    "2. **Here's a summary of the key concepts it helped to explain:**\n",
    "\n",
    "**a.** Markovian Chatbot Basic Structure:\n",
    "Original Code: The chatbot builds a Markov chain model using single words to predict the next word. It counts\n",
    "occurrences of words and tracks how often each word is followed by another, which forms the basis of its word predictions.\n",
    "\n",
    "**b.** Markovian Chatbot Extensions:\n",
    "Extension 1 (Bigrams): Instead of using individual words, this extension uses word pairs (bigrams) to predict the next word. \n",
    "By considering two consecutive words, the chatbot gains more context, allowing for more coherent text generation.\n",
    "Extension 2 (Character-Based Chains): Adds a layer where the Markov chains are built separately for different characters. This allows the chatbot to generate text that emulates the language or style of specific characters.\n",
    "\n",
    "**c.** Recursive defaultdict:\n",
    "nested_dict = lambda: defaultdict(nested_dict): This creates a recursive dictionary structure where any non-existent key\n",
    "will automatically create another defaultdict at that level, making it easy to build multi-level nested dictionaries without manual checks.\n",
    "\n",
    "**d.** enumerate() Function:\n",
    "The enumerate() function adds an index to an iterable (like a list), allowing you to loop through both the index and the \n",
    "element at the same time. This is useful for tracking the position of items in a list during iteration.\n",
    "These are the core ideas that help you understand how the chatbot functions and how extensions can enhance its capabilities.\n",
    "\n",
    "3. Link to ChatBot session: https://chatgpt.com/share/66ecef0b-1078-8005-bfea-d242152812c3\n",
    "\n",
    "So interestingly enough, ChatGPT (4o version) was able to interpret and understand everything the extension does, even making character \n",
    "specific Markov chains, and even using bigrams dependency."
   ]
  },
  {
   "cell_type": "markdown",
   "id": "5310e3a2",
   "metadata": {},
   "source": [
    "## Question 6\n",
    "\n",
    "1. I found it very interesting how quickly and efficiently ChatGPT explained the codes and even interpreted them. It was most definitely faster than any other resource, namely Google, and it proved to be very helpful as a \"personal tutor\".\n",
    "\n",
    "\n",
    "2. Interacting with the ChatBot was very helpful. I find that with AI - especially AI bots made to assist -, people can become frustrated with the outcomes they provide due to the sheer availability theres been with machine learning models. They are so helpful and abundunt now that I noticed we can become ungrateful at times. Other than that, I found ChatGPT to be a great help with the code, especially with understanding individual lines.\n",
    "\n",
    "\n",
    "3. Based on my experiences using ChatBots to troubleshoot coding errors, I've found them to be incredibly useful tools for understanding code. They excel at explaining concepts clearly and breaking down complex code snippets into manageable parts. This not only helps me identify and fix issues more efficiently but also deepens my overall comprehension of programming. Overall, I see ChatBots as valuable resources when coding."
   ]
  },
  {
   "cell_type": "markdown",
   "id": "e5acec44",
   "metadata": {},
   "source": [
    "## Question 7\n",
    "\n",
    "Since joining the course, my perception of AI-driven assistance tools has evolved positively, particularly in the context of learning coding, statistics, and data science. I've truly appreciated how I can ask anything, whether it’s a specific coding question or a broader concept I’m trying to grasp. This flexibility allows me to tailor my learning experience to my needs, making it easier to explore topics in depth or get quick clarifications when I'm stuck. Overall, I see AI as a powerful partner in my educational journey, enhancing my understanding and confidence in these subjects."
   ]
  },
  {
   "cell_type": "markdown",
   "id": "b4dad024",
   "metadata": {},
   "source": [
    "## Question 8\n",
    "\n",
    "1. **Summary of Discussion:**\n",
    "Learning and Adaptability: Essential for keeping up with rapidly evolving technologies and methodologies, making professionals \n",
    "more valuable in emerging fields.\n",
    "Communication: Critical for translating complex data insights to non-technical stakeholders, bridging gaps between data and \n",
    "business strategies.\n",
    "Coding: Fundamental for data manipulation and modeling, necessary for roles like data engineer and machine learning engineer.\n",
    "Statistics and Data Analysis: Crucial for making valid inferences and ensuring analysis integrity, foundational for roles like \n",
    "data analyst and statistician.\n",
    "\n",
    "2. **Summary: Could You Be a Data Scientist?**\n",
    "Yes, you could become a data scientist, but developing key skills like coding, statistical analysis, and data manipulation \n",
    "is essential. While some roles may focus more on theoretical aspects, having a solid foundation in programming and data \n",
    "analysis will enhance your effectiveness and career opportunities in this field.\n",
    "\n",
    "**Summary of Skills for Your Careers**\n",
    "\n",
    "*Software Development*\n",
    "- Programming Languages: Python, Java, C#, JavaScript.\n",
    "- Version Control: Git for collaboration and code management.\n",
    "- Development Methodologies: Agile, Scrum, DevOps.\n",
    "- Problem Solving: Analytical skills for troubleshooting and algorithm design.\n",
    "- Frameworks: Familiarity with relevant frameworks (e.g., React, Django).\n",
    "- Databases: Knowledge of SQL and NoSQL.\n",
    "- Testing and Debugging: Skills in unit testing and code debugging.\n",
    "\n",
    "*Data Science*\n",
    "- Programming: Proficiency in Python or R.\n",
    "- Statistical Analysis: Strong foundation in statistics.\n",
    "- Data Visualization: Skills in tools like Matplotlib, Seaborn, Tableau.\n",
    "- Machine Learning: Understanding of algorithms and frameworks (e.g., scikit-learn, TensorFlow).\n",
    "- Data Manipulation: Experience with libraries like Pandas and NumPy.\n",
    "- Big Data Technologies: Familiarity with Hadoop, Spark, cloud services.\n",
    "- Communication: Ability to convey insights to non-technical stakeholders.\n",
    "\n",
    "3. Link to ChatBot session: https://chatgpt.com/share/66ecf1e4-4074-8005-9260-2591237b00ee\n",
    "\n",
    "4. For software development, I recognize the importance of programming languages like Python, Java, C#, and JavaScript, along with version control systems like Git. Emphasizing methodologies such as Agile and Scrum will help me adapt to collaborative environments. I also need to enhance my problem-solving skills for effective troubleshooting and algorithm design, while familiarizing myself with relevant frameworks like React and Django. Understanding databases, both SQL and NoSQL, as well as honing my testing and debugging skills, are crucial steps in my journey.On the data science side, my proficiency in Python or R will be foundational, supported by a strong grasp of statistical analysis.I should focus on data visualization tools like Matplotlib, Seaborn, and Tableau to effectively communicate insights. Gaining knowledge in machine learning algorithms and frameworks, as well as data manipulation with libraries like Pandas and NumPy, will further strengthen my skill set. Additionally, exploring big data technologies such as Hadoop and Spark, and leveraging cloud services will enhance my capabilities. Overall, I feel equipped with a clear understanding of my goals and the skills I need to pursue, and I’m motivated to take concrete steps toward building this expertise.\n",
    "\n",
    "5. I found the conversation with the chatbot helpful for gaining a broad overview of skills needed for my career paths, but I recognize it could benefit from more in-depth insights specific to the industry. To pursue this further, I would seek out specialized resources, such as industry-specific courses, mentorship from experienced professionals, and forums where I can ask detailed questions and share experiences. This way, I can deepen my understanding and gain practical knowledge tailored to my interests.\n",
    "                                                                                            \n"
   ]
  },
  {
   "cell_type": "markdown",
   "id": "cf6d803b",
   "metadata": {},
   "source": [
    "## Question 9\n",
    "Yes"
   ]
  }
 ],
 "metadata": {
  "kernelspec": {
   "display_name": "Python 3 (ipykernel)",
   "language": "python",
   "name": "python3"
  },
  "language_info": {
   "codemirror_mode": {
    "name": "ipython",
    "version": 3
   },
   "file_extension": ".py",
   "mimetype": "text/x-python",
   "name": "python",
   "nbconvert_exporter": "python",
   "pygments_lexer": "ipython3",
   "version": "3.11.6"
  }
 },
 "nbformat": 4,
 "nbformat_minor": 5
}
